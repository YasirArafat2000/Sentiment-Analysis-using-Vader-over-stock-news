{
 "cells": [
  {
   "cell_type": "code",
   "execution_count": 25,
   "metadata": {},
   "outputs": [],
   "source": [
    "from urllib.request import urlopen, Request"
   ]
  },
  {
   "cell_type": "code",
   "execution_count": 54,
   "metadata": {},
   "outputs": [],
   "source": [
    "from bs4 import BeautifulSoup"
   ]
  },
  {
   "cell_type": "code",
   "execution_count": 55,
   "metadata": {},
   "outputs": [],
   "source": [
    "from nltk.sentiment.vader import SentimentIntensityAnalyzer"
   ]
  },
  {
   "cell_type": "code",
   "execution_count": 56,
   "metadata": {},
   "outputs": [],
   "source": [
    "import pandas as pd"
   ]
  },
  {
   "cell_type": "code",
   "execution_count": 70,
   "metadata": {},
   "outputs": [],
   "source": [
    "import matplotlib.pyplot as plt"
   ]
  },
  {
   "cell_type": "markdown",
   "metadata": {},
   "source": [
    "video_url = https://www.youtube.com/watch?v=o-zM8onpQZY"
   ]
  },
  {
   "cell_type": "code",
   "execution_count": null,
   "metadata": {},
   "outputs": [],
   "source": []
  },
  {
   "cell_type": "code",
   "execution_count": 120,
   "metadata": {},
   "outputs": [],
   "source": [
    "finviz_url = 'https://finviz.com/quote.ashx?t='"
   ]
  },
  {
   "cell_type": "code",
   "execution_count": 121,
   "metadata": {},
   "outputs": [],
   "source": [
    "tick = pd.read_csv('EQUITY_L.csv')"
   ]
  },
  {
   "cell_type": "code",
   "execution_count": 122,
   "metadata": {},
   "outputs": [
    {
     "data": {
      "text/html": [
       "<div>\n",
       "<style scoped>\n",
       "    .dataframe tbody tr th:only-of-type {\n",
       "        vertical-align: middle;\n",
       "    }\n",
       "\n",
       "    .dataframe tbody tr th {\n",
       "        vertical-align: top;\n",
       "    }\n",
       "\n",
       "    .dataframe thead th {\n",
       "        text-align: right;\n",
       "    }\n",
       "</style>\n",
       "<table border=\"1\" class=\"dataframe\">\n",
       "  <thead>\n",
       "    <tr style=\"text-align: right;\">\n",
       "      <th></th>\n",
       "      <th>SYMBOL</th>\n",
       "      <th>NAME OF COMPANY</th>\n",
       "      <th>SERIES</th>\n",
       "      <th>DATE OF LISTING</th>\n",
       "      <th>PAID UP VALUE</th>\n",
       "      <th>MARKET LOT</th>\n",
       "      <th>ISIN NUMBER</th>\n",
       "      <th>FACE VALUE</th>\n",
       "      <th>Unnamed: 8</th>\n",
       "      <th>YahooEquiv</th>\n",
       "      <th>Yahoo_Equivalent_Code</th>\n",
       "    </tr>\n",
       "  </thead>\n",
       "  <tbody>\n",
       "    <tr>\n",
       "      <th>1660</th>\n",
       "      <td>ZODJRDMKJ</td>\n",
       "      <td>Zodiac JRD- MKJ Limited</td>\n",
       "      <td>EQ</td>\n",
       "      <td>19-Jul-95</td>\n",
       "      <td>10</td>\n",
       "      <td>1</td>\n",
       "      <td>INE077B01018</td>\n",
       "      <td>10</td>\n",
       "      <td>.NS</td>\n",
       "      <td>ZODJRDMKJ.NS</td>\n",
       "      <td>'ZODJRDMKJ.NS',</td>\n",
       "    </tr>\n",
       "    <tr>\n",
       "      <th>1661</th>\n",
       "      <td>ZOTA</td>\n",
       "      <td>Zota Health Care LImited</td>\n",
       "      <td>EQ</td>\n",
       "      <td>19-Aug-19</td>\n",
       "      <td>10</td>\n",
       "      <td>1</td>\n",
       "      <td>INE358U01012</td>\n",
       "      <td>10</td>\n",
       "      <td>.NS</td>\n",
       "      <td>ZOTA.NS</td>\n",
       "      <td>'ZOTA.NS',</td>\n",
       "    </tr>\n",
       "    <tr>\n",
       "      <th>1662</th>\n",
       "      <td>ZUARI</td>\n",
       "      <td>Zuari Agro Chemicals Limited</td>\n",
       "      <td>EQ</td>\n",
       "      <td>27-Nov-12</td>\n",
       "      <td>10</td>\n",
       "      <td>1</td>\n",
       "      <td>INE840M01016</td>\n",
       "      <td>10</td>\n",
       "      <td>.NS</td>\n",
       "      <td>ZUARI.NS</td>\n",
       "      <td>'ZUARI.NS',</td>\n",
       "    </tr>\n",
       "    <tr>\n",
       "      <th>1663</th>\n",
       "      <td>ZUARIGLOB</td>\n",
       "      <td>Zuari Global Limited</td>\n",
       "      <td>BE</td>\n",
       "      <td>12-Apr-95</td>\n",
       "      <td>10</td>\n",
       "      <td>1</td>\n",
       "      <td>INE217A01012</td>\n",
       "      <td>10</td>\n",
       "      <td>.NS</td>\n",
       "      <td>ZUARIGLOB.NS</td>\n",
       "      <td>'ZUARIGLOB.NS',</td>\n",
       "    </tr>\n",
       "    <tr>\n",
       "      <th>1664</th>\n",
       "      <td>ZYDUSWELL</td>\n",
       "      <td>Zydus Wellness Limited</td>\n",
       "      <td>EQ</td>\n",
       "      <td>13-Nov-09</td>\n",
       "      <td>10</td>\n",
       "      <td>1</td>\n",
       "      <td>INE768C01010</td>\n",
       "      <td>10</td>\n",
       "      <td>.NS</td>\n",
       "      <td>ZYDUSWELL.NS</td>\n",
       "      <td>'ZYDUSWELL.NS'</td>\n",
       "    </tr>\n",
       "  </tbody>\n",
       "</table>\n",
       "</div>"
      ],
      "text/plain": [
       "         SYMBOL               NAME OF COMPANY  SERIES  DATE OF LISTING  \\\n",
       "1660  ZODJRDMKJ       Zodiac JRD- MKJ Limited      EQ        19-Jul-95   \n",
       "1661       ZOTA      Zota Health Care LImited      EQ        19-Aug-19   \n",
       "1662      ZUARI  Zuari Agro Chemicals Limited      EQ        27-Nov-12   \n",
       "1663  ZUARIGLOB          Zuari Global Limited      BE        12-Apr-95   \n",
       "1664  ZYDUSWELL        Zydus Wellness Limited      EQ        13-Nov-09   \n",
       "\n",
       "       PAID UP VALUE   MARKET LOT   ISIN NUMBER   FACE VALUE Unnamed: 8  \\\n",
       "1660              10            1  INE077B01018           10        .NS   \n",
       "1661              10            1  INE358U01012           10        .NS   \n",
       "1662              10            1  INE840M01016           10        .NS   \n",
       "1663              10            1  INE217A01012           10        .NS   \n",
       "1664              10            1  INE768C01010           10        .NS   \n",
       "\n",
       "        YahooEquiv Yahoo_Equivalent_Code  \n",
       "1660  ZODJRDMKJ.NS       'ZODJRDMKJ.NS',  \n",
       "1661       ZOTA.NS            'ZOTA.NS',  \n",
       "1662      ZUARI.NS           'ZUARI.NS',  \n",
       "1663  ZUARIGLOB.NS       'ZUARIGLOB.NS',  \n",
       "1664  ZYDUSWELL.NS        'ZYDUSWELL.NS'  "
      ]
     },
     "execution_count": 122,
     "metadata": {},
     "output_type": "execute_result"
    }
   ],
   "source": [
    "tick.tail() # this is for my experiment"
   ]
  },
  {
   "cell_type": "code",
   "execution_count": 123,
   "metadata": {},
   "outputs": [],
   "source": [
    "#back to the video"
   ]
  },
  {
   "cell_type": "code",
   "execution_count": 124,
   "metadata": {},
   "outputs": [],
   "source": [
    "tickers = ['AMZN', 'GOOG', 'FB']"
   ]
  },
  {
   "cell_type": "code",
   "execution_count": 125,
   "metadata": {},
   "outputs": [],
   "source": [
    "news_tables = {}\n",
    "for ticker in tickers:\n",
    "    url = finviz_url + ticker\n",
    "    \n",
    "    req = Request(url = url, headers={'user-agent':\n",
    "                                     'my-app'})\n",
    "    response = urlopen(req)\n",
    "    \n",
    "    html = BeautifulSoup(response, 'html')\n",
    "    \n",
    "    news_table = html.find(id='news-table')\n",
    "    news_tables[ticker] = news_table\n",
    " #   break\n",
    "    \n",
    "    "
   ]
  },
  {
   "cell_type": "code",
   "execution_count": 126,
   "metadata": {},
   "outputs": [],
   "source": [
    "#pri"
   ]
  },
  {
   "cell_type": "code",
   "execution_count": 127,
   "metadata": {},
   "outputs": [],
   "source": [
    "#print(news_tables)"
   ]
  },
  {
   "cell_type": "markdown",
   "metadata": {},
   "source": [
    "amzn_data = news_tables['AMZN']\n",
    "amzn_rows = amzn_data.findAll('tr')\n",
    "#print(amzn_rows)\n",
    "\n",
    "for index, row in enumerate(amzn_rows):\n",
    "    title = row.a.text\n",
    "    timestamp = row.td.text\n",
    "    print(timestamp + \" \" + title)\n",
    "    "
   ]
  },
  {
   "cell_type": "code",
   "execution_count": 128,
   "metadata": {},
   "outputs": [],
   "source": [
    "# better function"
   ]
  },
  {
   "cell_type": "code",
   "execution_count": 129,
   "metadata": {},
   "outputs": [],
   "source": [
    "parsed_data = []\n",
    "\n",
    "for ticker, news_table in news_tables.items():\n",
    "    for row in news_table.findAll('tr'):\n",
    "        \n",
    "        title = row.a.text\n",
    "        date_data = row.td.text.split(' ')\n",
    "        \n",
    "        if len(date_data) == 1:\n",
    "            time = date_data[0]\n",
    "        else:\n",
    "            date = date_data[0]\n",
    "            time = date_data[1]\n",
    "            \n",
    "        parsed_data.append([ticker, date, time, title])\n",
    "        "
   ]
  },
  {
   "cell_type": "code",
   "execution_count": 130,
   "metadata": {},
   "outputs": [],
   "source": [
    "#print(parsed_data)"
   ]
  },
  {
   "cell_type": "code",
   "execution_count": 131,
   "metadata": {},
   "outputs": [],
   "source": [
    "# goal is to take these titles and apply sentiment analysis"
   ]
  },
  {
   "cell_type": "code",
   "execution_count": 132,
   "metadata": {},
   "outputs": [],
   "source": [
    "# Using nltk vader"
   ]
  },
  {
   "cell_type": "code",
   "execution_count": 133,
   "metadata": {},
   "outputs": [],
   "source": [
    "df = pd.DataFrame(parsed_data, columns=['ticker', 'date', 'time', 'title'])"
   ]
  },
  {
   "cell_type": "code",
   "execution_count": 134,
   "metadata": {},
   "outputs": [
    {
     "name": "stdout",
     "output_type": "stream",
     "text": [
      "  ticker       date       time  \\\n",
      "0   AMZN  Apr-15-21  10:33PM     \n",
      "1   AMZN  Apr-15-21  06:38PM     \n",
      "2   AMZN  Apr-15-21  06:17PM     \n",
      "3   AMZN  Apr-15-21  05:54PM     \n",
      "4   AMZN  Apr-15-21  04:48PM     \n",
      "\n",
      "                                               title  \n",
      "0  Dow Jones Futures: Stock Market Rally Rebounds...  \n",
      "1  Is Kroger Stock A Buy Right Now? Here's What E...  \n",
      "2  U.S. Exposes Hackers Helpers to Punish Russian...  \n",
      "3  Jeff Bezos Promises to do Better Job for Amazo...  \n",
      "4  Jeff Bezos Just Revealed Amazon Prime's Latest...  \n"
     ]
    }
   ],
   "source": [
    "print(df.head())"
   ]
  },
  {
   "cell_type": "code",
   "execution_count": 135,
   "metadata": {},
   "outputs": [],
   "source": [
    "vader = SentimentIntensityAnalyzer()"
   ]
  },
  {
   "cell_type": "code",
   "execution_count": 136,
   "metadata": {},
   "outputs": [
    {
     "name": "stdout",
     "output_type": "stream",
     "text": [
      "0      Dow Jones Futures: Stock Market Rally Rebounds...\n",
      "1      Is Kroger Stock A Buy Right Now? Here's What E...\n",
      "2      U.S. Exposes Hackers Helpers to Punish Russian...\n",
      "3      Jeff Bezos Promises to do Better Job for Amazo...\n",
      "4      Jeff Bezos Just Revealed Amazon Prime's Latest...\n",
      "                             ...                        \n",
      "295    Muslim Advocacy Group Sue Facebook For Failure...\n",
      "296    Gupshup CEO on $100M funding: It accelerates o...\n",
      "297    Is Shopify Stock A Buy As New Chart Pattern Fo...\n",
      "298    U.S.-based Muslim advocacy group sues Facebook...\n",
      "299    FTC slams Facebook as personal social networki...\n",
      "Name: title, Length: 300, dtype: object\n"
     ]
    }
   ],
   "source": [
    "print(df['title'])"
   ]
  },
  {
   "cell_type": "code",
   "execution_count": 137,
   "metadata": {},
   "outputs": [],
   "source": [
    "f = lambda title: vader.polarity_scores(title)['compound']\n",
    "df['compound'] = df['title'].apply(f)\n",
    "df['date'] = pd.to_datetime(df.date).dt.date\n",
    "\n"
   ]
  },
  {
   "cell_type": "code",
   "execution_count": 142,
   "metadata": {},
   "outputs": [
    {
     "data": {
      "text/plain": [
       "<Figure size 1440x1080 with 0 Axes>"
      ]
     },
     "execution_count": 142,
     "metadata": {},
     "output_type": "execute_result"
    },
    {
     "data": {
      "text/plain": [
       "<Figure size 1440x1080 with 0 Axes>"
      ]
     },
     "metadata": {},
     "output_type": "display_data"
    }
   ],
   "source": [
    "plt.figure(figsize =(20,15))"
   ]
  },
  {
   "cell_type": "code",
   "execution_count": 143,
   "metadata": {},
   "outputs": [],
   "source": [
    "mean_df = df.groupby(['ticker', 'date']).mean()\n",
    "mean_df = mean_df.unstack()\n",
    "mean_df = mean_df.xs('compound', axis=\"columns\").transpose()\n",
    "\n"
   ]
  },
  {
   "cell_type": "code",
   "execution_count": 144,
   "metadata": {},
   "outputs": [
    {
     "name": "stdout",
     "output_type": "stream",
     "text": [
      "ticker          AMZN        FB      GOOG\n",
      "date                                    \n",
      "2021-04-08       NaN -0.059460       NaN\n",
      "2021-04-09       NaN -0.078026 -0.028062\n",
      "2021-04-10       NaN  0.125000  0.287500\n",
      "2021-04-11       NaN       NaN  0.000000\n",
      "2021-04-12  0.032800  0.078682  0.187410\n",
      "2021-04-13  0.064387  0.077247  0.163956\n",
      "2021-04-14  0.026272  0.055956  0.056244\n",
      "2021-04-15  0.154535  0.147435  0.114027\n",
      "2021-04-16       NaN -0.072450 -0.526700\n"
     ]
    }
   ],
   "source": [
    "print(mean_df)"
   ]
  },
  {
   "cell_type": "code",
   "execution_count": 145,
   "metadata": {},
   "outputs": [
    {
     "data": {
      "image/png": "[encoded data removed]",
      "text/plain": [
       "<Figure size 432x288 with 1 Axes>"
      ]
     },
     "metadata": {
      "needs_background": "light"
     },
     "output_type": "display_data"
    }
   ],
   "source": [
    "mean_df.plot(kind='bar')\n",
    "plt.show()"
   ]
  },
  {
   "cell_type": "code",
   "execution_count": null,
   "metadata": {},
   "outputs": [],
   "source": []
  },
  {
   "cell_type": "code",
   "execution_count": null,
   "metadata": {},
   "outputs": [],
   "source": []
  }
 ],
 "metadata": {
  "kernelspec": {
   "display_name": "Python 3",
   "language": "python",
   "name": "python3"
  },
  "language_info": {
   "codemirror_mode": {
    "name": "ipython",
    "version": 3
   },
   "file_extension": ".py",
   "mimetype": "text/x-python",
   "name": "python",
   "nbconvert_exporter": "python",
   "pygments_lexer": "ipython3",
   "version": "3.8.5"
  }
 },
 "nbformat": 4,
 "nbformat_minor": 4
}
